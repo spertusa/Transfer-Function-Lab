{
 "metadata": {
  "kernelspec": {
   "display_name": "Python 2",
   "language": "python",
   "name": "python2"
  },
  "language_info": {
   "codemirror_mode": {
    "name": "ipython",
    "version": 2
   },
   "file_extension": ".py",
   "mimetype": "text/x-python",
   "name": "python",
   "nbconvert_exporter": "python",
   "pygments_lexer": "ipython2",
   "version": "2.7.6"
  },
  "name": ""
 },
 "nbformat": 3,
 "nbformat_minor": 0,
 "worksheets": [
  {
   "cells": [
    {
     "cell_type": "heading",
     "level": 1,
     "metadata": {},
     "source": [
      "# Analysis of low-pass filter data taken with Audio Codec"
     ]
    },
    {
     "cell_type": "markdown",
     "metadata": {},
     "source": [
      "This routine accepts the data files written by the Processing sketch \"ProcessingCode\" and finds the transfer function by dividing the digitized output of the unit under test by the white noise spectrum input to the unit. In this case the device is a simple resistor-capacitor low-pass filter. A model of that filter is fit to the measured transfer function and the results and residuals are plotted.\n",
      "\n",
      "The first cell is initialization"
     ]
    },
    {
     "cell_type": "code",
     "collapsed": false,
     "input": [
      "%pylab inline \n",
      "import numpy.fft as fft # import FFT routines\n",
      "import glob as gl # import file name parsing routines\n",
      "import os # import file name manipulation routines\n",
      "from scipy import optimize # import fitting routines"
     ],
     "language": "python",
     "metadata": {},
     "outputs": [],
     "prompt_number": null
    },
    {
     "cell_type": "markdown",
     "metadata": {},
     "source": [
      "Point to the directory where Process runs. Find make a list of all the files in that directory that have the name \"DataXX.txt\" where XX is anything."
     ]
    },
    {
     "cell_type": "code",
     "collapsed": false,
     "input": [
      "directory='/Users/meyer/Documents/Arduino/transfer/\\\n",
      "Processing2/Structuredreceive3_bin/'\n",
      "datafiles=gl.glob(os.path.join(directory,'Data*.txt'))"
     ],
     "language": "python",
     "metadata": {},
     "outputs": [],
     "prompt_number": null
    },
    {
     "cell_type": "markdown",
     "metadata": {},
     "source": [
      "Read the data file that is converted to analog and sent to the device under test. Those data are in the file \"bandlimited.inc'\n",
      "\n",
      "Read all the data files in the list found above and check that have 1024 numbers in them (this gets around the coccasional file that is missing some data). Compute the average timestream in the files."
     ]
    },
    {
     "cell_type": "code",
     "collapsed": false,
     "input": [
      "s=genfromtxt(\"bandlimited.txt\") # get the source array and average every other point\n",
      "r=np.zeros(1024)\n",
      "num = 0\n",
      "for data_file in datafiles:\n",
      "    ra=genfromtxt(data_file) #get the result array\n",
      "    if (ra.size == 1024):\n",
      "        r += ra\n",
      "        num += 1\n",
      "r/=num"
     ],
     "language": "python",
     "metadata": {},
     "outputs": [],
     "prompt_number": null
    },
    {
     "cell_type": "markdown",
     "metadata": {},
     "source": [
      "Plot both the input function and the the average of the output data."
     ]
    },
    {
     "cell_type": "code",
     "collapsed": false,
     "input": [
      "figure(figsize=(10,3))\n",
      "xlabel('sample number')\n",
      "ylabel('ADU')\n",
      "xlim([0.,1024])\n",
      "plot(s,label='Input')\n",
      "plot(r,'r', label='Output')\n",
      "legend(loc=4)"
     ],
     "language": "python",
     "metadata": {},
     "outputs": [],
     "prompt_number": null
    },
    {
     "cell_type": "markdown",
     "metadata": {},
     "source": [
      "Make a function that models an RC lowpass function with a transfer function of\n",
      "\n",
      "$$\n",
      "T(\\omega)=e^{i\\omega \\Delta}\\left(\\frac{1}{r_1/r_{\\rm in}+1}\\right)\\left(\\frac{1}{1+i\\omega\\tau}\\right)\n",
      "$$\n",
      "\n",
      "where $\\Delta$ is the time delay between the input and output signal and \n",
      "\n",
      "$$\n",
      "\\tau=\\frac{C}{1/r_1 + 1/ r_{\\rm in}}\n",
      "$$\n",
      "\n",
      "is the timeconstant of the $RC$ filter including the effect of the input resistance. \n",
      "\n",
      "The second function outputs an array of residuals given a set of parameters. This is used by the optimize.leastsq function to fit the parameters. Not all the residual values are used. Five points at the lowest frequency and 100 points at the highest frequency are removed. At the high end this is because there is a digital filter in the Codec that is not accounted for in the model and pulls the fit. At low frequencies, below 10 Hz, the model does not fit well."
     ]
    },
    {
     "cell_type": "code",
     "collapsed": true,
     "input": [
      "def xfer_model(p,w,rin):\n",
      "    \"\"\"This is the function to fit the transfer function \n",
      "    data to for an RC low pass filter\n",
      "    The parameters are in p\n",
      "    \n",
      "    p[0] is the series resistor (ohms)\n",
      "    p[1] is the series capacitor (farads)\n",
      "    p[2] is the delay between the output data and the input data\"\"\"\n",
      "    \n",
      "    rpar = 1./(1./p[0]+1./rin)\n",
      "    return exp(1j*p[2]*w)*(1./((p[0]/rin)+1))*(1./(1.+1j*w*p[1]*rpar))\n",
      "def errfunc(p,w,tr,ti,rin):\n",
      "    \"\"\"This finds the residuals between the model and the data\"\"\"\n",
      "    m = xfer_model(p,w,rin)\n",
      "    trf=tr[5:-100]\n",
      "    tif=ti[5:-100]\n",
      "    mf=m[5:-100]\n",
      "    resid=concatenate((trf-mf.real,tif-mf.imag),axis=0)\n",
      "    return resid"
     ],
     "language": "python",
     "metadata": {},
     "outputs": [],
     "prompt_number": null
    },
    {
     "cell_type": "markdown",
     "metadata": {},
     "source": [
      "This is the analysis of the output relative to the input functions. Each is Fourier transformed and the Nyquyist point removed. Also the frequency spacing $\\Delta f$ is computed from the sample frequency and the number of points. The frequency and angular frequency arrays are also generated."
     ]
    },
    {
     "cell_type": "code",
     "collapsed": false,
     "input": [
      "fsamp=2450. #sample frequency (Hz)\n",
      "df=fsamp/(1024.) # calculate the frequency steps\n",
      "ttot=1/df # total time of a set of data\n",
      "f=np.arange(0,512)*df # make the frequency array\n",
      "w=2*pi*f # angular frequency\n",
      "ss=fft.rfft(s) #fourier transform the source array\n",
      "ss=ss[:-1] # lop off the Nyquist frequency point\n",
      "rt=fft.rfft(r) #f ourier transform the result array\n",
      "rt=rt[:-1] #ditto"
     ],
     "language": "python",
     "metadata": {},
     "outputs": [],
     "prompt_number": null
    },
    {
     "cell_type": "markdown",
     "metadata": {},
     "source": [
      "Here we fit the model function to the data. An initial guess of the capicator value, the resistor value, the delay and the input resistor value are needed. Since the delay causes the phase of the transfer function to wrap, a fairly close guess of the delay is needed. This is obtained by trying a grid of values as a guess for the delay. The guess that gets the best $\\chi^2$ is the one chosen. Print out the results of the fit."
     ]
    },
    {
     "cell_type": "code",
     "collapsed": false,
     "input": [
      "cap=3.34e-7 #initial guess Capacitor value\n",
      "res1=39.1e3 #initial guess resistor value\n",
      "rin=31.35e3 # input resistor to ground\n",
      "t=rt/ss #find the phase shift between them using the first few points\n",
      "errsave=1.e99\n",
      "for delay in arange(0.,ttot,ttot/20.):\n",
      "    start=array([res1,cap,delay])\n",
      "    pfit,C,info,msg,suc=optimize.leastsq(errfunc,\n",
      "        start,args=(w,t.real,t.imag,rin),maxfev=20000,full_output = 1)\n",
      "    e=(errfunc(pfit,w,t.real,t.imag,rin))**2\n",
      "    err=sum(e)\n",
      "    if (err < errsave):\n",
      "        errsave,pfinal,startfinal,msgfinal,infofinal,sucfinal=\\\n",
      "            err,pfit,start,msg,info,suc\n",
      "rchisq=errsave/(e.size-pfinal.size)\n",
      "print 'Fit Results assuming input r = ', rin, 'Ohms'\n",
      "print '   Initial Guesses:'\n",
      "print '      R1 = ',startfinal[0],' ohms, C = ',startfinal[1], 'F,  delay = ', startfinal[2],' s'\n",
      "print '   Fit results:'\n",
      "print '      R1 = ',pfinal[0],' ohms, C = ',pfinal[1], 'F,  delay = ', pfinal[2],' s'\n",
      "print '   Message from fitter: '\n",
      "print '      ',msgfinal\n",
      "print '   Fitter status:'\n",
      "print '      success flag ',sucfinal\n",
      "print '      number of function calls ',infofinal['nfev']"
     ],
     "language": "python",
     "metadata": {},
     "outputs": [],
     "prompt_number": null
    },
    {
     "cell_type": "markdown",
     "metadata": {},
     "source": [
      "Using the final fit parameter, shift both the model and the data back to zero delay by multiplying by $e^{-i\\omega\\Delta}$. Plot the magnitude of the data and model."
     ]
    },
    {
     "cell_type": "code",
     "collapsed": false,
     "input": [
      "m= exp(-1j*pfinal[2]*w)*xfer_model(pfinal,w,rin)\n",
      "tt=t*exp(-1j*w*pfinal[2])\n",
      "figure(figsize=(10,4))\n",
      "xlim([2.,1225.])\n",
      "xlabel('Frequency (Hz)')\n",
      "ylabel('Transfer Function Magnitude')\n",
      "loglog(f,abs(tt),label='Data') #plot it up in a log/log plot.\n",
      "loglog(f,abs(m),label='Model') #plot the model magnitude\n",
      "legend(loc=3)"
     ],
     "language": "python",
     "metadata": {},
     "outputs": [],
     "prompt_number": null
    },
    {
     "cell_type": "markdown",
     "metadata": {},
     "source": [
      "To look at the fit more closely, plot the difference between the data and the model - the residual. Since they are complex numbers, plot the difference between the real part of the model and the data in blue and the imaginary difference in green. "
     ]
    },
    {
     "cell_type": "code",
     "collapsed": false,
     "input": [
      "figure(figsize=(10,4))\n",
      "ylim([-3.e-3,3.e-3])\n",
      "xlim([2.,1225.])\n",
      "xlabel('Frequency (Hz)')\n",
      "ylabel('Transfer Function Residual')\n",
      "semilogx(f,tt.real-m.real,label='Real')\n",
      "semilogx(f,tt.imag-m.imag,label='Imaginary')\n",
      "legend(loc=3)"
     ],
     "language": "python",
     "metadata": {},
     "outputs": [],
     "prompt_number": null
    },
    {
     "cell_type": "markdown",
     "metadata": {},
     "source": [
      "Plot the phase of the transfer function data and fit."
     ]
    },
    {
     "cell_type": "code",
     "collapsed": false,
     "input": [
      "figure(figsize=(10,4))\n",
      "ylim([-100.,0.])\n",
      "xlim([2.,1225.])\n",
      "xlabel('Frequency (Hz)')\n",
      "ylabel('Transfer Function Phase (Degrees)')\n",
      "semilogx(f,180.*angle(tt)/pi,label='Data')\n",
      "semilogx(f,180.*angle(m)/pi,label='Model')\n",
      "legend(loc=3)"
     ],
     "language": "python",
     "metadata": {},
     "outputs": [],
     "prompt_number": null
    }
   ],
   "metadata": {}
  }
 ]
}
