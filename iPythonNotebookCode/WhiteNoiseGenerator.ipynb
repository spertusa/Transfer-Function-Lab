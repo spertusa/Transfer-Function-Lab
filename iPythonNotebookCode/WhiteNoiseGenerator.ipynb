{
 "metadata": {
  "kernelspec": {
   "display_name": "Python 2",
   "language": "python",
   "name": "python2"
  },
  "language_info": {
   "codemirror_mode": {
    "name": "ipython",
    "version": 2
   },
   "file_extension": ".py",
   "mimetype": "text/x-python",
   "name": "python",
   "nbconvert_exporter": "python",
   "pygments_lexer": "ipython2",
   "version": "2.7.6"
  },
  "name": ""
 },
 "nbformat": 3,
 "nbformat_minor": 0,
 "worksheets": [
  {
   "cells": [
    {
     "cell_type": "heading",
     "level": 2,
     "metadata": {},
     "source": [
      "Ipython notebook to generate white noise file for Arduino transfer Function ##"
     ]
    },
    {
     "cell_type": "markdown",
     "metadata": {},
     "source": [
      "This notebook generates 513 complex random numbers with a normal distribution in the real and imaginary parts. This is the white sinput spectrum. Then the spectrum is shaped with a low frequency pass filter to reduce the power at high frequencies. The first and last points are set to zero. TheThen the routine Fourier transforms these into a real array with 1024 values"
     ]
    },
    {
     "cell_type": "code",
     "collapsed": false,
     "input": [
      "%pylab inline\n",
      "import numpy as np"
     ],
     "language": "python",
     "metadata": {},
     "outputs": [],
     "prompt_number": null
    },
    {
     "cell_type": "markdown",
     "metadata": {},
     "source": [
      "Here we generate the complex random numbers $z$ and in the for loop mulitiply by a low pass filter $T(f)=\\frac{1}{1+i2\\pi f\\tau}$ where $\\tau$ is $2/2\\pi f_N$ the Nyquist frequency. We then explicitly make the first (the DC value) and the last points be zero. We then plot the magnitude of $z$,"
     ]
    },
    {
     "cell_type": "code",
     "collapsed": false,
     "input": [
      "z=(numpy.random.normal(0.,1.,513)+1j*numpy.random.normal(0.,1.,513))\n",
      "z2=np.zeros(513)+1j*(1+np.array(513))\n",
      "for i in np.arange(513):\n",
      "    #z2[i]=z[i]/(1+1j*i/128.)**2\n",
      "    z[i]=z[i]/(1+1j*i/256.)**2\n",
      "z[0]=0.\n",
      "z[-1]=0.\n",
      "plot(np.abs(z))"
     ],
     "language": "python",
     "metadata": {},
     "outputs": [],
     "prompt_number": null
    },
    {
     "cell_type": "markdown",
     "metadata": {},
     "source": [
      "Now we calculate the real FFT of the numbers above and subtract the average value and plot it."
     ]
    },
    {
     "cell_type": "code",
     "collapsed": false,
     "input": [
      "r=np.fft.irfft(z)\n",
      "r=r-np.sum(r)/1024\n",
      "plot(r)"
     ],
     "language": "python",
     "metadata": {},
     "outputs": [],
     "prompt_number": null
    },
    {
     "cell_type": "markdown",
     "metadata": {},
     "source": [
      "Now we scale the data to exactly fill a 16 bit integers"
     ]
    },
    {
     "cell_type": "code",
     "collapsed": false,
     "input": [
      "m=np.max(r)\n",
      "n=np.min(r)\n",
      "d=m-n\n",
      "cen=(m+n)/2\n",
      "r=(r-cen)*(2**16-1)/d-0.5\n",
      "print np.max(r)\n",
      "print np.min(r)"
     ],
     "language": "python",
     "metadata": {},
     "outputs": [],
     "prompt_number": null
    },
    {
     "cell_type": "markdown",
     "metadata": {},
     "source": [
      "Convert numbers to 16 bit integers"
     ]
    },
    {
     "cell_type": "code",
     "collapsed": false,
     "input": [
      "i=np.int16(r)"
     ],
     "language": "python",
     "metadata": {},
     "outputs": [],
     "prompt_number": null
    },
    {
     "cell_type": "markdown",
     "metadata": {},
     "source": [
      "Print the mMin and max and plot the integers"
     ]
    },
    {
     "cell_type": "code",
     "collapsed": false,
     "input": [
      "print np.max(i)\n",
      "print np.min(i)\n",
      "plot(i)"
     ],
     "language": "python",
     "metadata": {},
     "outputs": [],
     "prompt_number": null
    },
    {
     "cell_type": "markdown",
     "metadata": {},
     "source": [
      "Here we open, write to, and close two text files. The first is a file that just contains the integer numbers and is used by the Python analysis notebook. The second is the file that the Arduino sketch uses to insert into the code. The first is by default called wh.txt and the second wh.inc. These names can be changed and in the folders with the programs they have been renamed to bandlimited.txt and bandlimited.inc. Note that if you want to generate a new set of white noise data, you need to use the pair in the Arduino program and the analysis because each time this routine is run the actual random numbers are different."
     ]
    },
    {
     "cell_type": "code",
     "collapsed": false,
     "input": [
      "textfile=open('wh.txt','w')\n",
      "includefile=open('wh.inc','w')\n",
      "includefile.write('// wh.inc\\r\\n')\n",
      "includefile.write('// bandlimited white noise\\r\\n')\n",
      "includefile.write('// this file is a 1024 sample by 16b signed integer lookup table\\r\\n')\n",
      "includefile.write('\\r\\n')\n",
      "for k in arange(1023):\n",
      "    includefile.write(str(i[k])+',\\r\\n')\n",
      "    textfile.write(str(i[k])+'\\r\\n')\n",
      "includefile.write(str(i[1023]))\n",
      "textfile.write(str(i[1023])+'\\r\\n')\n",
      "includefile.close()\n",
      "textfile.close()"
     ],
     "language": "python",
     "metadata": {},
     "outputs": [],
     "prompt_number": null
    }
   ],
   "metadata": {}
  }
 ]
}